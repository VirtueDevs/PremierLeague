{
  "nbformat": 4,
  "nbformat_minor": 0,
  "metadata": {
    "colab": {
      "provenance": []
    },
    "kernelspec": {
      "name": "python3",
      "display_name": "Python 3"
    },
    "language_info": {
      "name": "python"
    }
  },
  "cells": [
    {
      "cell_type": "markdown",
      "source": [
        "**Project that uses a machine learning model to predict.**"
      ],
      "metadata": {
        "id": "XtwAYcQ-5lpn"
      }
    },
    {
      "cell_type": "code",
      "execution_count": null,
      "metadata": {
        "id": "E6V9UQjVwWBT"
      },
      "outputs": [],
      "source": [
        "import pandas as pd\n",
        "import numpy as np\n",
        "from matplotlib import pyplot as plt\n",
        "from sklearn import linear_model\n",
        "from sklearn.metrics import r2_score\n",
        "from sklearn.metrics import mean_squared_error\n",
        "from sklearn.preprocessing import StandardScaler\n",
        "from sklearn.model_selection import train_test_split\n",
        "from sklearn.linear_model import LinearRegression\n",
        "from sklearn.neural_network import MLPRegressor"
      ]
    },
    {
      "cell_type": "markdown",
      "source": [
        "![i.png](data:image/png;base64,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)\n",
        "\n",
        "#Cargamos el dataset\n",
        " Este dataset corresponde a las tablas de posiciones de la Premier League desde la season 2000-01 a la season 2021-22\n",
        "Los indices son:\n",
        "\n",
        " - Temporada\n",
        " - Posición (Puesto en liga)\n",
        " - Equipo\n",
        " - Partidos jugados\n",
        " - Partidos Ganados\n",
        " - Partidos Perdidos\n",
        " - Partido empatados\n",
        " - Goles a favor\n",
        " - Goles en contra\n",
        " - Diferencia de goles\n",
        " - Puntos totales\n",
        " - Campeonato al que clasifican por la posición"
      ],
      "metadata": {
        "id": "VadAn9MntjXt"
      }
    },
    {
      "cell_type": "code",
      "source": [
        "df=pd.read_csv('https://docs.google.com/spreadsheets/d/e/2PACX-1vTC_Q4qiayP1uhNNXhps0tyCdC4QHuqHdnmriBuzsM7Dr0Ez8IbqaNaot4lBtXJgXRd50l1GlrfUR0M/pub?gid=908497832&single=true&output=csv')\n",
        "df.head(15)"
      ],
      "metadata": {
        "colab": {
          "base_uri": "https://localhost:8080/",
          "height": 824
        },
        "id": "CDVxeNa-kQ68",
        "outputId": "1ab7e815-6100-4cea-a0ad-e9b4892ccd05"
      },
      "execution_count": null,
      "outputs": [
        {
          "output_type": "execute_result",
          "data": {
            "text/plain": [
              "     Season  Pos               Team  Pld   W   D   L  GF  GA  GD  Pts  \\\n",
              "0   2000-01    1  Manchester United   38  24   8   6  79  31  48   80   \n",
              "1   2000-01    2            Arsenal   38  20  10   8  63  38  25   70   \n",
              "2   2000-01    3          Liverpool   38  20   9   9  71  39  32   69   \n",
              "3   2000-01    4       Leeds United   38  20   8  10  64  43  21   68   \n",
              "4   2000-01    5       Ipswich Town   38  20   6  12  57  42  15   66   \n",
              "5   2000-01    6            Chelsea   38  17  10  11  68  45  23   61   \n",
              "6   2000-01    7         Sunderland   38  15  12  11  46  41   5   57   \n",
              "7   2000-01    8        Aston Villa   38  13  15  10  46  43   3   54   \n",
              "8   2000-01    9  Charlton Athletic   38  14  10  14  50  57  -7   52   \n",
              "9   2000-01   10        Southampton   38  14  10  14  40  48  -8   52   \n",
              "10  2000-01   11   Newcastle United   38  14   9  15  44  50  -6   51   \n",
              "11  2000-01   12  Tottenham Hotspur   38  13  10  15  47  54  -7   49   \n",
              "12  2000-01   13     Leicester City   38  14   6  18  39  51 -12   48   \n",
              "13  2000-01   14      Middlesbrough   38   9  15  14  44  44   0   42   \n",
              "14  2000-01   15    West Ham United   38  10  12  16  45  50  -5   42   \n",
              "\n",
              "                          Qualification or relegation  \n",
              "0   Qualification for the Champions League first g...  \n",
              "1   Qualification for the Champions League first g...  \n",
              "2   Qualification for the Champions League third q...  \n",
              "3       Qualification for the UEFA Cup first round[a]  \n",
              "4       Qualification for the UEFA Cup first round[a]  \n",
              "5       Qualification for the UEFA Cup first round[a]  \n",
              "6                                      Not Applicable  \n",
              "7     Qualification for the Intertoto Cup third round  \n",
              "8                                      Not Applicable  \n",
              "9                                      Not Applicable  \n",
              "10    Qualification for the Intertoto Cup third round  \n",
              "11                                     Not Applicable  \n",
              "12                                     Not Applicable  \n",
              "13                                     Not Applicable  \n",
              "14                                     Not Applicable  "
            ],
            "text/html": [
              "\n",
              "  <div id=\"df-33213a2c-5961-4384-959a-8cecb21aed55\">\n",
              "    <div class=\"colab-df-container\">\n",
              "      <div>\n",
              "<style scoped>\n",
              "    .dataframe tbody tr th:only-of-type {\n",
              "        vertical-align: middle;\n",
              "    }\n",
              "\n",
              "    .dataframe tbody tr th {\n",
              "        vertical-align: top;\n",
              "    }\n",
              "\n",
              "    .dataframe thead th {\n",
              "        text-align: right;\n",
              "    }\n",
              "</style>\n",
              "<table border=\"1\" class=\"dataframe\">\n",
              "  <thead>\n",
              "    <tr style=\"text-align: right;\">\n",
              "      <th></th>\n",
              "      <th>Season</th>\n",
              "      <th>Pos</th>\n",
              "      <th>Team</th>\n",
              "      <th>Pld</th>\n",
              "      <th>W</th>\n",
              "      <th>D</th>\n",
              "      <th>L</th>\n",
              "      <th>GF</th>\n",
              "      <th>GA</th>\n",
              "      <th>GD</th>\n",
              "      <th>Pts</th>\n",
              "      <th>Qualification or relegation</th>\n",
              "    </tr>\n",
              "  </thead>\n",
              "  <tbody>\n",
              "    <tr>\n",
              "      <th>0</th>\n",
              "      <td>2000-01</td>\n",
              "      <td>1</td>\n",
              "      <td>Manchester United</td>\n",
              "      <td>38</td>\n",
              "      <td>24</td>\n",
              "      <td>8</td>\n",
              "      <td>6</td>\n",
              "      <td>79</td>\n",
              "      <td>31</td>\n",
              "      <td>48</td>\n",
              "      <td>80</td>\n",
              "      <td>Qualification for the Champions League first g...</td>\n",
              "    </tr>\n",
              "    <tr>\n",
              "      <th>1</th>\n",
              "      <td>2000-01</td>\n",
              "      <td>2</td>\n",
              "      <td>Arsenal</td>\n",
              "      <td>38</td>\n",
              "      <td>20</td>\n",
              "      <td>10</td>\n",
              "      <td>8</td>\n",
              "      <td>63</td>\n",
              "      <td>38</td>\n",
              "      <td>25</td>\n",
              "      <td>70</td>\n",
              "      <td>Qualification for the Champions League first g...</td>\n",
              "    </tr>\n",
              "    <tr>\n",
              "      <th>2</th>\n",
              "      <td>2000-01</td>\n",
              "      <td>3</td>\n",
              "      <td>Liverpool</td>\n",
              "      <td>38</td>\n",
              "      <td>20</td>\n",
              "      <td>9</td>\n",
              "      <td>9</td>\n",
              "      <td>71</td>\n",
              "      <td>39</td>\n",
              "      <td>32</td>\n",
              "      <td>69</td>\n",
              "      <td>Qualification for the Champions League third q...</td>\n",
              "    </tr>\n",
              "    <tr>\n",
              "      <th>3</th>\n",
              "      <td>2000-01</td>\n",
              "      <td>4</td>\n",
              "      <td>Leeds United</td>\n",
              "      <td>38</td>\n",
              "      <td>20</td>\n",
              "      <td>8</td>\n",
              "      <td>10</td>\n",
              "      <td>64</td>\n",
              "      <td>43</td>\n",
              "      <td>21</td>\n",
              "      <td>68</td>\n",
              "      <td>Qualification for the UEFA Cup first round[a]</td>\n",
              "    </tr>\n",
              "    <tr>\n",
              "      <th>4</th>\n",
              "      <td>2000-01</td>\n",
              "      <td>5</td>\n",
              "      <td>Ipswich Town</td>\n",
              "      <td>38</td>\n",
              "      <td>20</td>\n",
              "      <td>6</td>\n",
              "      <td>12</td>\n",
              "      <td>57</td>\n",
              "      <td>42</td>\n",
              "      <td>15</td>\n",
              "      <td>66</td>\n",
              "      <td>Qualification for the UEFA Cup first round[a]</td>\n",
              "    </tr>\n",
              "    <tr>\n",
              "      <th>5</th>\n",
              "      <td>2000-01</td>\n",
              "      <td>6</td>\n",
              "      <td>Chelsea</td>\n",
              "      <td>38</td>\n",
              "      <td>17</td>\n",
              "      <td>10</td>\n",
              "      <td>11</td>\n",
              "      <td>68</td>\n",
              "      <td>45</td>\n",
              "      <td>23</td>\n",
              "      <td>61</td>\n",
              "      <td>Qualification for the UEFA Cup first round[a]</td>\n",
              "    </tr>\n",
              "    <tr>\n",
              "      <th>6</th>\n",
              "      <td>2000-01</td>\n",
              "      <td>7</td>\n",
              "      <td>Sunderland</td>\n",
              "      <td>38</td>\n",
              "      <td>15</td>\n",
              "      <td>12</td>\n",
              "      <td>11</td>\n",
              "      <td>46</td>\n",
              "      <td>41</td>\n",
              "      <td>5</td>\n",
              "      <td>57</td>\n",
              "      <td>Not Applicable</td>\n",
              "    </tr>\n",
              "    <tr>\n",
              "      <th>7</th>\n",
              "      <td>2000-01</td>\n",
              "      <td>8</td>\n",
              "      <td>Aston Villa</td>\n",
              "      <td>38</td>\n",
              "      <td>13</td>\n",
              "      <td>15</td>\n",
              "      <td>10</td>\n",
              "      <td>46</td>\n",
              "      <td>43</td>\n",
              "      <td>3</td>\n",
              "      <td>54</td>\n",
              "      <td>Qualification for the Intertoto Cup third round</td>\n",
              "    </tr>\n",
              "    <tr>\n",
              "      <th>8</th>\n",
              "      <td>2000-01</td>\n",
              "      <td>9</td>\n",
              "      <td>Charlton Athletic</td>\n",
              "      <td>38</td>\n",
              "      <td>14</td>\n",
              "      <td>10</td>\n",
              "      <td>14</td>\n",
              "      <td>50</td>\n",
              "      <td>57</td>\n",
              "      <td>-7</td>\n",
              "      <td>52</td>\n",
              "      <td>Not Applicable</td>\n",
              "    </tr>\n",
              "    <tr>\n",
              "      <th>9</th>\n",
              "      <td>2000-01</td>\n",
              "      <td>10</td>\n",
              "      <td>Southampton</td>\n",
              "      <td>38</td>\n",
              "      <td>14</td>\n",
              "      <td>10</td>\n",
              "      <td>14</td>\n",
              "      <td>40</td>\n",
              "      <td>48</td>\n",
              "      <td>-8</td>\n",
              "      <td>52</td>\n",
              "      <td>Not Applicable</td>\n",
              "    </tr>\n",
              "    <tr>\n",
              "      <th>10</th>\n",
              "      <td>2000-01</td>\n",
              "      <td>11</td>\n",
              "      <td>Newcastle United</td>\n",
              "      <td>38</td>\n",
              "      <td>14</td>\n",
              "      <td>9</td>\n",
              "      <td>15</td>\n",
              "      <td>44</td>\n",
              "      <td>50</td>\n",
              "      <td>-6</td>\n",
              "      <td>51</td>\n",
              "      <td>Qualification for the Intertoto Cup third round</td>\n",
              "    </tr>\n",
              "    <tr>\n",
              "      <th>11</th>\n",
              "      <td>2000-01</td>\n",
              "      <td>12</td>\n",
              "      <td>Tottenham Hotspur</td>\n",
              "      <td>38</td>\n",
              "      <td>13</td>\n",
              "      <td>10</td>\n",
              "      <td>15</td>\n",
              "      <td>47</td>\n",
              "      <td>54</td>\n",
              "      <td>-7</td>\n",
              "      <td>49</td>\n",
              "      <td>Not Applicable</td>\n",
              "    </tr>\n",
              "    <tr>\n",
              "      <th>12</th>\n",
              "      <td>2000-01</td>\n",
              "      <td>13</td>\n",
              "      <td>Leicester City</td>\n",
              "      <td>38</td>\n",
              "      <td>14</td>\n",
              "      <td>6</td>\n",
              "      <td>18</td>\n",
              "      <td>39</td>\n",
              "      <td>51</td>\n",
              "      <td>-12</td>\n",
              "      <td>48</td>\n",
              "      <td>Not Applicable</td>\n",
              "    </tr>\n",
              "    <tr>\n",
              "      <th>13</th>\n",
              "      <td>2000-01</td>\n",
              "      <td>14</td>\n",
              "      <td>Middlesbrough</td>\n",
              "      <td>38</td>\n",
              "      <td>9</td>\n",
              "      <td>15</td>\n",
              "      <td>14</td>\n",
              "      <td>44</td>\n",
              "      <td>44</td>\n",
              "      <td>0</td>\n",
              "      <td>42</td>\n",
              "      <td>Not Applicable</td>\n",
              "    </tr>\n",
              "    <tr>\n",
              "      <th>14</th>\n",
              "      <td>2000-01</td>\n",
              "      <td>15</td>\n",
              "      <td>West Ham United</td>\n",
              "      <td>38</td>\n",
              "      <td>10</td>\n",
              "      <td>12</td>\n",
              "      <td>16</td>\n",
              "      <td>45</td>\n",
              "      <td>50</td>\n",
              "      <td>-5</td>\n",
              "      <td>42</td>\n",
              "      <td>Not Applicable</td>\n",
              "    </tr>\n",
              "  </tbody>\n",
              "</table>\n",
              "</div>\n",
              "      <button class=\"colab-df-convert\" onclick=\"convertToInteractive('df-33213a2c-5961-4384-959a-8cecb21aed55')\"\n",
              "              title=\"Convert this dataframe to an interactive table.\"\n",
              "              style=\"display:none;\">\n",
              "        \n",
              "  <svg xmlns=\"http://www.w3.org/2000/svg\" height=\"24px\"viewBox=\"0 0 24 24\"\n",
              "       width=\"24px\">\n",
              "    <path d=\"M0 0h24v24H0V0z\" fill=\"none\"/>\n",
              "    <path d=\"M18.56 5.44l.94 2.06.94-2.06 2.06-.94-2.06-.94-.94-2.06-.94 2.06-2.06.94zm-11 1L8.5 8.5l.94-2.06 2.06-.94-2.06-.94L8.5 2.5l-.94 2.06-2.06.94zm10 10l.94 2.06.94-2.06 2.06-.94-2.06-.94-.94-2.06-.94 2.06-2.06.94z\"/><path d=\"M17.41 7.96l-1.37-1.37c-.4-.4-.92-.59-1.43-.59-.52 0-1.04.2-1.43.59L10.3 9.45l-7.72 7.72c-.78.78-.78 2.05 0 2.83L4 21.41c.39.39.9.59 1.41.59.51 0 1.02-.2 1.41-.59l7.78-7.78 2.81-2.81c.8-.78.8-2.07 0-2.86zM5.41 20L4 18.59l7.72-7.72 1.47 1.35L5.41 20z\"/>\n",
              "  </svg>\n",
              "      </button>\n",
              "      \n",
              "  <style>\n",
              "    .colab-df-container {\n",
              "      display:flex;\n",
              "      flex-wrap:wrap;\n",
              "      gap: 12px;\n",
              "    }\n",
              "\n",
              "    .colab-df-convert {\n",
              "      background-color: #E8F0FE;\n",
              "      border: none;\n",
              "      border-radius: 50%;\n",
              "      cursor: pointer;\n",
              "      display: none;\n",
              "      fill: #1967D2;\n",
              "      height: 32px;\n",
              "      padding: 0 0 0 0;\n",
              "      width: 32px;\n",
              "    }\n",
              "\n",
              "    .colab-df-convert:hover {\n",
              "      background-color: #E2EBFA;\n",
              "      box-shadow: 0px 1px 2px rgba(60, 64, 67, 0.3), 0px 1px 3px 1px rgba(60, 64, 67, 0.15);\n",
              "      fill: #174EA6;\n",
              "    }\n",
              "\n",
              "    [theme=dark] .colab-df-convert {\n",
              "      background-color: #3B4455;\n",
              "      fill: #D2E3FC;\n",
              "    }\n",
              "\n",
              "    [theme=dark] .colab-df-convert:hover {\n",
              "      background-color: #434B5C;\n",
              "      box-shadow: 0px 1px 3px 1px rgba(0, 0, 0, 0.15);\n",
              "      filter: drop-shadow(0px 1px 2px rgba(0, 0, 0, 0.3));\n",
              "      fill: #FFFFFF;\n",
              "    }\n",
              "  </style>\n",
              "\n",
              "      <script>\n",
              "        const buttonEl =\n",
              "          document.querySelector('#df-33213a2c-5961-4384-959a-8cecb21aed55 button.colab-df-convert');\n",
              "        buttonEl.style.display =\n",
              "          google.colab.kernel.accessAllowed ? 'block' : 'none';\n",
              "\n",
              "        async function convertToInteractive(key) {\n",
              "          const element = document.querySelector('#df-33213a2c-5961-4384-959a-8cecb21aed55');\n",
              "          const dataTable =\n",
              "            await google.colab.kernel.invokeFunction('convertToInteractive',\n",
              "                                                     [key], {});\n",
              "          if (!dataTable) return;\n",
              "\n",
              "          const docLinkHtml = 'Like what you see? Visit the ' +\n",
              "            '<a target=\"_blank\" href=https://colab.research.google.com/notebooks/data_table.ipynb>data table notebook</a>'\n",
              "            + ' to learn more about interactive tables.';\n",
              "          element.innerHTML = '';\n",
              "          dataTable['output_type'] = 'display_data';\n",
              "          await google.colab.output.renderOutput(dataTable, element);\n",
              "          const docLink = document.createElement('div');\n",
              "          docLink.innerHTML = docLinkHtml;\n",
              "          element.appendChild(docLink);\n",
              "        }\n",
              "      </script>\n",
              "    </div>\n",
              "  </div>\n",
              "  "
            ]
          },
          "metadata": {},
          "execution_count": 6
        }
      ]
    },
    {
      "cell_type": "markdown",
      "source": [
        "**Revisamos la estructura de los datos**"
      ],
      "metadata": {
        "id": "zN3ePtQGujgx"
      }
    },
    {
      "cell_type": "code",
      "source": [
        "df.info()"
      ],
      "metadata": {
        "colab": {
          "base_uri": "https://localhost:8080/"
        },
        "id": "KjTmNGJ3CRsQ",
        "outputId": "1cecfbac-f9c7-4908-f5bf-eb594df15219"
      },
      "execution_count": null,
      "outputs": [
        {
          "output_type": "stream",
          "name": "stdout",
          "text": [
            "<class 'pandas.core.frame.DataFrame'>\n",
            "RangeIndex: 440 entries, 0 to 439\n",
            "Data columns (total 12 columns):\n",
            " #   Column                       Non-Null Count  Dtype \n",
            "---  ------                       --------------  ----- \n",
            " 0   Season                       440 non-null    object\n",
            " 1   Pos                          440 non-null    int64 \n",
            " 2   Team                         440 non-null    object\n",
            " 3   Pld                          440 non-null    int64 \n",
            " 4   W                            440 non-null    int64 \n",
            " 5   D                            440 non-null    int64 \n",
            " 6   L                            440 non-null    int64 \n",
            " 7   GF                           440 non-null    int64 \n",
            " 8   GA                           440 non-null    int64 \n",
            " 9   GD                           440 non-null    int64 \n",
            " 10  Pts                          440 non-null    int64 \n",
            " 11  Qualification or relegation  440 non-null    object\n",
            "dtypes: int64(9), object(3)\n",
            "memory usage: 41.4+ KB\n"
          ]
        }
      ]
    },
    {
      "cell_type": "markdown",
      "source": [
        "**Verificamos que no haya ningún dato NaN o espacio vacío**"
      ],
      "metadata": {
        "id": "pYX_KB0au5ck"
      }
    },
    {
      "cell_type": "code",
      "source": [
        "df.isna().sum()"
      ],
      "metadata": {
        "colab": {
          "base_uri": "https://localhost:8080/"
        },
        "id": "Ocrm_qBwCZC2",
        "outputId": "48c5167a-03cb-44d4-fe4f-4123ed6fa2a8"
      },
      "execution_count": null,
      "outputs": [
        {
          "output_type": "execute_result",
          "data": {
            "text/plain": [
              "Season                         0\n",
              "Pos                            0\n",
              "Team                           0\n",
              "Pld                            0\n",
              "W                              0\n",
              "D                              0\n",
              "L                              0\n",
              "GF                             0\n",
              "GA                             0\n",
              "GD                             0\n",
              "Pts                            0\n",
              "Qualification or relegation    0\n",
              "dtype: int64"
            ]
          },
          "metadata": {},
          "execution_count": 8
        }
      ]
    },
    {
      "cell_type": "markdown",
      "source": [
        "**Describimos los datos estadisticos de los datos**"
      ],
      "metadata": {
        "id": "v72AddNtvhR4"
      }
    },
    {
      "cell_type": "code",
      "source": [
        "df.describe()"
      ],
      "metadata": {
        "colab": {
          "base_uri": "https://localhost:8080/",
          "height": 364
        },
        "id": "fyJE2us6pk8x",
        "outputId": "3dda89ef-1b8f-446e-b584-d71cb1733528"
      },
      "execution_count": null,
      "outputs": [
        {
          "output_type": "execute_result",
          "data": {
            "text/plain": [
              "              Pos    Pld           W           D           L          GF  \\\n",
              "count  440.000000  440.0  440.000000  440.000000  440.000000  440.000000   \n",
              "mean    10.500000   38.0   14.261364    9.477273   14.261364   50.863636   \n",
              "std      5.772845    0.0    5.987638    2.856385    5.548080   15.778205   \n",
              "min      1.000000   38.0    1.000000    2.000000    0.000000   20.000000   \n",
              "25%      5.750000   38.0   10.000000    7.000000   10.000000   40.000000   \n",
              "50%     10.500000   38.0   13.000000    9.000000   15.000000   47.000000   \n",
              "75%     15.250000   38.0   18.000000   11.000000   18.000000   60.000000   \n",
              "max     20.000000   38.0   32.000000   17.000000   29.000000  106.000000   \n",
              "\n",
              "               GA         GD         Pts  \n",
              "count  440.000000  440.00000  440.000000  \n",
              "mean    50.863636    0.00000   52.240909  \n",
              "std     12.893450   26.02627   17.097234  \n",
              "min     15.000000  -69.00000   11.000000  \n",
              "25%     42.000000  -19.00000   40.750000  \n",
              "50%     51.000000   -6.00000   48.000000  \n",
              "75%     59.000000   16.00000   63.250000  \n",
              "max     89.000000   79.00000  100.000000  "
            ],
            "text/html": [
              "\n",
              "  <div id=\"df-fcaf8583-7165-4b60-9356-e62b337b0e8a\">\n",
              "    <div class=\"colab-df-container\">\n",
              "      <div>\n",
              "<style scoped>\n",
              "    .dataframe tbody tr th:only-of-type {\n",
              "        vertical-align: middle;\n",
              "    }\n",
              "\n",
              "    .dataframe tbody tr th {\n",
              "        vertical-align: top;\n",
              "    }\n",
              "\n",
              "    .dataframe thead th {\n",
              "        text-align: right;\n",
              "    }\n",
              "</style>\n",
              "<table border=\"1\" class=\"dataframe\">\n",
              "  <thead>\n",
              "    <tr style=\"text-align: right;\">\n",
              "      <th></th>\n",
              "      <th>Pos</th>\n",
              "      <th>Pld</th>\n",
              "      <th>W</th>\n",
              "      <th>D</th>\n",
              "      <th>L</th>\n",
              "      <th>GF</th>\n",
              "      <th>GA</th>\n",
              "      <th>GD</th>\n",
              "      <th>Pts</th>\n",
              "    </tr>\n",
              "  </thead>\n",
              "  <tbody>\n",
              "    <tr>\n",
              "      <th>count</th>\n",
              "      <td>440.000000</td>\n",
              "      <td>440.0</td>\n",
              "      <td>440.000000</td>\n",
              "      <td>440.000000</td>\n",
              "      <td>440.000000</td>\n",
              "      <td>440.000000</td>\n",
              "      <td>440.000000</td>\n",
              "      <td>440.00000</td>\n",
              "      <td>440.000000</td>\n",
              "    </tr>\n",
              "    <tr>\n",
              "      <th>mean</th>\n",
              "      <td>10.500000</td>\n",
              "      <td>38.0</td>\n",
              "      <td>14.261364</td>\n",
              "      <td>9.477273</td>\n",
              "      <td>14.261364</td>\n",
              "      <td>50.863636</td>\n",
              "      <td>50.863636</td>\n",
              "      <td>0.00000</td>\n",
              "      <td>52.240909</td>\n",
              "    </tr>\n",
              "    <tr>\n",
              "      <th>std</th>\n",
              "      <td>5.772845</td>\n",
              "      <td>0.0</td>\n",
              "      <td>5.987638</td>\n",
              "      <td>2.856385</td>\n",
              "      <td>5.548080</td>\n",
              "      <td>15.778205</td>\n",
              "      <td>12.893450</td>\n",
              "      <td>26.02627</td>\n",
              "      <td>17.097234</td>\n",
              "    </tr>\n",
              "    <tr>\n",
              "      <th>min</th>\n",
              "      <td>1.000000</td>\n",
              "      <td>38.0</td>\n",
              "      <td>1.000000</td>\n",
              "      <td>2.000000</td>\n",
              "      <td>0.000000</td>\n",
              "      <td>20.000000</td>\n",
              "      <td>15.000000</td>\n",
              "      <td>-69.00000</td>\n",
              "      <td>11.000000</td>\n",
              "    </tr>\n",
              "    <tr>\n",
              "      <th>25%</th>\n",
              "      <td>5.750000</td>\n",
              "      <td>38.0</td>\n",
              "      <td>10.000000</td>\n",
              "      <td>7.000000</td>\n",
              "      <td>10.000000</td>\n",
              "      <td>40.000000</td>\n",
              "      <td>42.000000</td>\n",
              "      <td>-19.00000</td>\n",
              "      <td>40.750000</td>\n",
              "    </tr>\n",
              "    <tr>\n",
              "      <th>50%</th>\n",
              "      <td>10.500000</td>\n",
              "      <td>38.0</td>\n",
              "      <td>13.000000</td>\n",
              "      <td>9.000000</td>\n",
              "      <td>15.000000</td>\n",
              "      <td>47.000000</td>\n",
              "      <td>51.000000</td>\n",
              "      <td>-6.00000</td>\n",
              "      <td>48.000000</td>\n",
              "    </tr>\n",
              "    <tr>\n",
              "      <th>75%</th>\n",
              "      <td>15.250000</td>\n",
              "      <td>38.0</td>\n",
              "      <td>18.000000</td>\n",
              "      <td>11.000000</td>\n",
              "      <td>18.000000</td>\n",
              "      <td>60.000000</td>\n",
              "      <td>59.000000</td>\n",
              "      <td>16.00000</td>\n",
              "      <td>63.250000</td>\n",
              "    </tr>\n",
              "    <tr>\n",
              "      <th>max</th>\n",
              "      <td>20.000000</td>\n",
              "      <td>38.0</td>\n",
              "      <td>32.000000</td>\n",
              "      <td>17.000000</td>\n",
              "      <td>29.000000</td>\n",
              "      <td>106.000000</td>\n",
              "      <td>89.000000</td>\n",
              "      <td>79.00000</td>\n",
              "      <td>100.000000</td>\n",
              "    </tr>\n",
              "  </tbody>\n",
              "</table>\n",
              "</div>\n",
              "      <button class=\"colab-df-convert\" onclick=\"convertToInteractive('df-fcaf8583-7165-4b60-9356-e62b337b0e8a')\"\n",
              "              title=\"Convert this dataframe to an interactive table.\"\n",
              "              style=\"display:none;\">\n",
              "        \n",
              "  <svg xmlns=\"http://www.w3.org/2000/svg\" height=\"24px\"viewBox=\"0 0 24 24\"\n",
              "       width=\"24px\">\n",
              "    <path d=\"M0 0h24v24H0V0z\" fill=\"none\"/>\n",
              "    <path d=\"M18.56 5.44l.94 2.06.94-2.06 2.06-.94-2.06-.94-.94-2.06-.94 2.06-2.06.94zm-11 1L8.5 8.5l.94-2.06 2.06-.94-2.06-.94L8.5 2.5l-.94 2.06-2.06.94zm10 10l.94 2.06.94-2.06 2.06-.94-2.06-.94-.94-2.06-.94 2.06-2.06.94z\"/><path d=\"M17.41 7.96l-1.37-1.37c-.4-.4-.92-.59-1.43-.59-.52 0-1.04.2-1.43.59L10.3 9.45l-7.72 7.72c-.78.78-.78 2.05 0 2.83L4 21.41c.39.39.9.59 1.41.59.51 0 1.02-.2 1.41-.59l7.78-7.78 2.81-2.81c.8-.78.8-2.07 0-2.86zM5.41 20L4 18.59l7.72-7.72 1.47 1.35L5.41 20z\"/>\n",
              "  </svg>\n",
              "      </button>\n",
              "      \n",
              "  <style>\n",
              "    .colab-df-container {\n",
              "      display:flex;\n",
              "      flex-wrap:wrap;\n",
              "      gap: 12px;\n",
              "    }\n",
              "\n",
              "    .colab-df-convert {\n",
              "      background-color: #E8F0FE;\n",
              "      border: none;\n",
              "      border-radius: 50%;\n",
              "      cursor: pointer;\n",
              "      display: none;\n",
              "      fill: #1967D2;\n",
              "      height: 32px;\n",
              "      padding: 0 0 0 0;\n",
              "      width: 32px;\n",
              "    }\n",
              "\n",
              "    .colab-df-convert:hover {\n",
              "      background-color: #E2EBFA;\n",
              "      box-shadow: 0px 1px 2px rgba(60, 64, 67, 0.3), 0px 1px 3px 1px rgba(60, 64, 67, 0.15);\n",
              "      fill: #174EA6;\n",
              "    }\n",
              "\n",
              "    [theme=dark] .colab-df-convert {\n",
              "      background-color: #3B4455;\n",
              "      fill: #D2E3FC;\n",
              "    }\n",
              "\n",
              "    [theme=dark] .colab-df-convert:hover {\n",
              "      background-color: #434B5C;\n",
              "      box-shadow: 0px 1px 3px 1px rgba(0, 0, 0, 0.15);\n",
              "      filter: drop-shadow(0px 1px 2px rgba(0, 0, 0, 0.3));\n",
              "      fill: #FFFFFF;\n",
              "    }\n",
              "  </style>\n",
              "\n",
              "      <script>\n",
              "        const buttonEl =\n",
              "          document.querySelector('#df-fcaf8583-7165-4b60-9356-e62b337b0e8a button.colab-df-convert');\n",
              "        buttonEl.style.display =\n",
              "          google.colab.kernel.accessAllowed ? 'block' : 'none';\n",
              "\n",
              "        async function convertToInteractive(key) {\n",
              "          const element = document.querySelector('#df-fcaf8583-7165-4b60-9356-e62b337b0e8a');\n",
              "          const dataTable =\n",
              "            await google.colab.kernel.invokeFunction('convertToInteractive',\n",
              "                                                     [key], {});\n",
              "          if (!dataTable) return;\n",
              "\n",
              "          const docLinkHtml = 'Like what you see? Visit the ' +\n",
              "            '<a target=\"_blank\" href=https://colab.research.google.com/notebooks/data_table.ipynb>data table notebook</a>'\n",
              "            + ' to learn more about interactive tables.';\n",
              "          element.innerHTML = '';\n",
              "          dataTable['output_type'] = 'display_data';\n",
              "          await google.colab.output.renderOutput(dataTable, element);\n",
              "          const docLink = document.createElement('div');\n",
              "          docLink.innerHTML = docLinkHtml;\n",
              "          element.appendChild(docLink);\n",
              "        }\n",
              "      </script>\n",
              "    </div>\n",
              "  </div>\n",
              "  "
            ]
          },
          "metadata": {},
          "execution_count": 9
        }
      ]
    },
    {
      "cell_type": "markdown",
      "source": [
        "**En este caso, podemos observar que la diferencia de goles muchas veces infiere en la posición en la que quedan los equipos al final de temporada.**\n",
        "\n",
        "**Así que asumimos como variable dependiente a la posición en la que quedan en relación con la variable independiente que sería la diferencia de goles**\n",
        "\n",
        "**X = GD**\n",
        "\n",
        "**y = Pos**\n",
        "\n",
        "\n",
        "**La diferencia de goles se calcula restando la cantidad de goles anotados, con la cantidad de goles recibidos**\n"
      ],
      "metadata": {
        "id": "Yk49cLTxwU08"
      }
    },
    {
      "cell_type": "code",
      "source": [
        "df[['GD','Pos']].plot.box()\n",
        "df.plot.scatter(x='GD',y='Pos')\n",
        "plt.xlabel(\"Diferencia de Goles\")\n",
        "plt.ylabel(\"Posición\")\n",
        "plt.yticks([1,2,3,4,5,6,7,8,9,10,11,12,13,14,15,16,17,18,19,20])\n",
        "plt.xticks([-60,-50,-40,-30,-20,-10,-0,10,20,30,40,50,60,70,80])\n",
        "plt.gca().invert_yaxis()"
      ],
      "metadata": {
        "colab": {
          "base_uri": "https://localhost:8080/",
          "height": 527
        },
        "id": "dXYvaQAvuuKj",
        "outputId": "6906bc35-d7ae-4141-bc1e-c4ade6259231"
      },
      "execution_count": null,
      "outputs": [
        {
          "output_type": "display_data",
          "data": {
            "text/plain": [
              "<Figure size 432x288 with 1 Axes>"
            ],
            "image/png": "[encoded data removed]"
          },
          "metadata": {
            "needs_background": "light"
          }
        },
        {
          "output_type": "display_data",
          "data": {
            "text/plain": [
              "<Figure size 432x288 with 1 Axes>"
            ],
            "image/png": "[encoded data removed]"
          },
          "metadata": {
            "needs_background": "light"
          }
        }
      ]
    },
    {
      "cell_type": "markdown",
      "source": [
        "**En la anterior gráfica podemos observar, que los equipos que llegan a tener nula diferencia de goles, empiezan a quedar por mitad de tabla. Los equipos que tienen una diferencia de goles negativa, se úbican desde la mitad de tabla hacía abajo. Mientras que los equipos con mayor diferencia de goles positiva, son los que ocupan las primeras posiciones en las competiciones.**"
      ],
      "metadata": {
        "id": "Qu0E-L_61yId"
      }
    },
    {
      "cell_type": "markdown",
      "source": [
        "**Dividimos los datos de test y entrenamiento, en este caso tomamos el 20% de los datos para test y el resto será para entrenamiento. Utilizamos un estado randómico común de los ejemplos de Sickit-Learn.**"
      ],
      "metadata": {
        "id": "ozqdyHyw2rA0"
      }
    },
    {
      "cell_type": "code",
      "source": [
        "X = df['GD'].values.reshape(-1,1)\n",
        "y = df['Pos'].values.reshape(-1,1)"
      ],
      "metadata": {
        "id": "U3f1a1hQsXgD"
      },
      "execution_count": null,
      "outputs": []
    },
    {
      "cell_type": "code",
      "source": [
        "X_train, X_test, y_train, y_test = train_test_split(X, y, test_size=0.2, random_state=42)"
      ],
      "metadata": {
        "id": "XvP-m2eptGNh"
      },
      "execution_count": null,
      "outputs": []
    },
    {
      "cell_type": "code",
      "source": [
        "X_train.shape"
      ],
      "metadata": {
        "colab": {
          "base_uri": "https://localhost:8080/"
        },
        "id": "tx8PplCiGVjV",
        "outputId": "787823af-894b-488f-c95a-529c8151b5f6"
      },
      "execution_count": null,
      "outputs": [
        {
          "output_type": "execute_result",
          "data": {
            "text/plain": [
              "(352, 1)"
            ]
          },
          "metadata": {},
          "execution_count": 13
        }
      ]
    },
    {
      "cell_type": "code",
      "source": [
        "scaler = StandardScaler()\n",
        "\n",
        "# solo hacemos fit_transform con train e con test transform\n",
        "xtrain_scaled = scaler.fit_transform(X_train)\n",
        "xtest_scaled = scaler.transform(X_test)"
      ],
      "metadata": {
        "id": "A8mpIjNI-Lse"
      },
      "execution_count": null,
      "outputs": []
    },
    {
      "cell_type": "markdown",
      "source": [
        "**En esta parte, generamos el modelo. En este caso utilizaremos el modelo de regresión lineal.**"
      ],
      "metadata": {
        "id": "D3cU2nX-3OQ_"
      }
    },
    {
      "cell_type": "code",
      "source": [
        "model = LinearRegression()\n",
        "model.fit(xtrain_scaled, y_train)"
      ],
      "metadata": {
        "colab": {
          "base_uri": "https://localhost:8080/"
        },
        "id": "d0z87KdX8vg6",
        "outputId": "f1472aab-84fa-4bc3-c47e-9483f33d6988"
      },
      "execution_count": null,
      "outputs": [
        {
          "output_type": "execute_result",
          "data": {
            "text/plain": [
              "LinearRegression()"
            ]
          },
          "metadata": {},
          "execution_count": 15
        }
      ]
    },
    {
      "cell_type": "markdown",
      "source": [
        "**Realizamos la predicción en base al modelo**"
      ],
      "metadata": {
        "id": "-M94VLu23eqV"
      }
    },
    {
      "cell_type": "code",
      "source": [
        "prediction = model.predict(xtest_scaled)\n",
        "prediction"
      ],
      "metadata": {
        "colab": {
          "base_uri": "https://localhost:8080/"
        },
        "id": "uBcMFDwe91Pw",
        "outputId": "2ca9d369-866d-4f60-80ea-3f1bc4d7400d"
      },
      "execution_count": null,
      "outputs": [
        {
          "output_type": "execute_result",
          "data": {
            "text/plain": [
              "array([[ 9.66764502],\n",
              "       [18.45039337],\n",
              "       [13.34414433],\n",
              "       [15.18239399],\n",
              "       [11.9143946 ],\n",
              "       [11.09739476],\n",
              "       [ 4.76564595],\n",
              "       [ 3.9486461 ],\n",
              "       [19.26739322],\n",
              "       [ 7.42089545],\n",
              "       [ 9.05489514],\n",
              "       [10.28039491],\n",
              "       [15.18239399],\n",
              "       [15.59089391],\n",
              "       [ 2.72314633],\n",
              "       [12.93564441],\n",
              "       [15.38664395],\n",
              "       [15.59089391],\n",
              "       [12.52714449],\n",
              "       [15.18239399],\n",
              "       [12.11864456],\n",
              "       [15.59089391],\n",
              "       [12.11864456],\n",
              "       [12.11864456],\n",
              "       [ 7.42089545],\n",
              "       [12.32289453],\n",
              "       [12.11864456],\n",
              "       [-2.58735267],\n",
              "       [10.48464487],\n",
              "       [11.50589468],\n",
              "       [ 6.80814556],\n",
              "       [13.54839429],\n",
              "       [15.59089391],\n",
              "       [17.63339353],\n",
              "       [ 9.87189499],\n",
              "       [11.9143946 ],\n",
              "       [ 8.64639522],\n",
              "       [ 2.72314633],\n",
              "       [17.42914357],\n",
              "       [16.61214372],\n",
              "       [21.5141428 ],\n",
              "       [11.50589468],\n",
              "       [11.9143946 ],\n",
              "       [18.45039337],\n",
              "       [14.16114418],\n",
              "       [12.73139445],\n",
              "       [-1.3618529 ],\n",
              "       [ 7.62514541],\n",
              "       [13.95689422],\n",
              "       [-3.20010256],\n",
              "       [ 5.17414587],\n",
              "       [13.34414433],\n",
              "       [12.11864456],\n",
              "       [11.50589468],\n",
              "       [ 0.68064671],\n",
              "       [18.65464333],\n",
              "       [ 1.2933966 ],\n",
              "       [10.89314479],\n",
              "       [12.52714449],\n",
              "       [ 3.54014618],\n",
              "       [12.52714449],\n",
              "       [12.52714449],\n",
              "       [11.30164472],\n",
              "       [15.79514387],\n",
              "       [ 9.66764502],\n",
              "       [ 8.64639522],\n",
              "       [ 4.76564595],\n",
              "       [-4.0171024 ],\n",
              "       [10.89314479],\n",
              "       [12.52714449],\n",
              "       [ 7.42089545],\n",
              "       [11.9143946 ],\n",
              "       [ 8.23789529],\n",
              "       [17.42914357],\n",
              "       [12.93564441],\n",
              "       [ 9.87189499],\n",
              "       [ 9.46339506],\n",
              "       [ 1.90614648],\n",
              "       [10.68889483],\n",
              "       [13.75264426],\n",
              "       [ 4.76564595],\n",
              "       [15.59089391],\n",
              "       [ 9.87189499],\n",
              "       [13.95689422],\n",
              "       [15.18239399],\n",
              "       [ 7.21664549],\n",
              "       [15.38664395],\n",
              "       [10.48464487]])"
            ]
          },
          "metadata": {},
          "execution_count": 16
        }
      ]
    },
    {
      "cell_type": "markdown",
      "source": [
        "# Error cuadrático medio"
      ],
      "metadata": {
        "id": "H-gCLi2f3m7g"
      }
    },
    {
      "cell_type": "code",
      "source": [
        "mean_sqr_error=mean_squared_error(y_test,prediction)\n",
        "mean_sqr_error"
      ],
      "metadata": {
        "colab": {
          "base_uri": "https://localhost:8080/"
        },
        "id": "0ZoDqAjI-yuT",
        "outputId": "0dd368c2-3d4f-46f8-a6ec-f9a0d0d2cd82"
      },
      "execution_count": null,
      "outputs": [
        {
          "output_type": "execute_result",
          "data": {
            "text/plain": [
              "6.694853537635409"
            ]
          },
          "metadata": {},
          "execution_count": 17
        }
      ]
    },
    {
      "cell_type": "markdown",
      "source": [
        "# Raiz del error cuadrático medio"
      ],
      "metadata": {
        "id": "zU597X613upe"
      }
    },
    {
      "cell_type": "code",
      "source": [
        "root_mse=mean_squared_error(y_test,prediction,squared=False)\n",
        "root_mse"
      ],
      "metadata": {
        "colab": {
          "base_uri": "https://localhost:8080/"
        },
        "id": "kdKfFpmC_TAU",
        "outputId": "a234fd4c-f131-493b-ad26-ea402f744e99"
      },
      "execution_count": null,
      "outputs": [
        {
          "output_type": "execute_result",
          "data": {
            "text/plain": [
              "2.5874415041958745"
            ]
          },
          "metadata": {},
          "execution_count": 18
        }
      ]
    },
    {
      "cell_type": "markdown",
      "source": [
        "# R2 Score"
      ],
      "metadata": {
        "id": "0yOLBDLS4CLJ"
      }
    },
    {
      "cell_type": "code",
      "source": [
        "r2 = r2_score(y_test,prediction)\n",
        "r2"
      ],
      "metadata": {
        "colab": {
          "base_uri": "https://localhost:8080/"
        },
        "id": "YnqFtpTf_cb3",
        "outputId": "9b6c3b44-0921-4541-cd02-ca8ad6499867"
      },
      "execution_count": null,
      "outputs": [
        {
          "output_type": "execute_result",
          "data": {
            "text/plain": [
              "0.7976040155395595"
            ]
          },
          "metadata": {},
          "execution_count": 19
        }
      ]
    },
    {
      "cell_type": "markdown",
      "source": [
        "**Con base al ejercicio de 'NYC trip prediction', utilizamos un gráfico para comprobar qué tan acertado es el modelo, comparando los valores de prueba y los valores predecidos.**"
      ],
      "metadata": {
        "id": "CPDGB7lR4Joo"
      }
    },
    {
      "cell_type": "code",
      "source": [
        "plt.figure(figsize=(16,8))\n",
        "plt.title('Comparación de una porción de valores de prueba y valores predichos')\n",
        "plt.plot(y_test[:200], color='blue', label='Valores de test de variable target')\n",
        "plt.plot(prediction[:200], color='red', marker='x', label='Valores previstos por el modelo')\n",
        "plt.legend(loc='upper right')\n",
        "plt.show()"
      ],
      "metadata": {
        "colab": {
          "base_uri": "https://localhost:8080/",
          "height": 398
        },
        "id": "H8zCpPA9BGTc",
        "outputId": "7eac010d-79d9-4311-8c08-1307c24aa12d"
      },
      "execution_count": null,
      "outputs": [
        {
          "output_type": "display_data",
          "data": {
            "text/plain": [
              "<Figure size 1152x576 with 1 Axes>"
            ],
            "image/png": "[encoded data removed]"
          },
          "metadata": {
            "needs_background": "light"
          }
        }
      ]
    },
    {
      "cell_type": "markdown",
      "source": [
        "**Encontramos el mejor modelo para utilizar en este proyecto**"
      ],
      "metadata": {
        "id": "VZprFFse4i7e"
      }
    },
    {
      "cell_type": "code",
      "source": [
        "from sklearn.model_selection import cross_val_score\n",
        "regressors = [linear_model.LinearRegression(),linear_model.Ridge(alpha=.7),\n",
        "              MLPRegressor(hidden_layer_sizes=(22,100,),activation='relu',max_iter=100000),\n",
        "              linear_model.RANSACRegressor(random_state=0)]\n",
        "names = ['lineal','ridge 0.7','MLP','RANSAC']\n",
        "#from https://scikit-learn.org/stable/modules/model_evaluation.html#scoring-parameter\n",
        "scoring =['explained_variance',\n",
        "          'neg_mean_absolute_error',\n",
        "          'neg_mean_squared_error',\n",
        "          'neg_mean_squared_log_error',\n",
        "          'neg_median_absolute_error',\n",
        "          'r2']\n",
        "\n",
        "\n",
        "\n",
        "for reg,name in zip(regressors,names):\n",
        "    scores = cross_val_score(reg, X_train, y_train.ravel(), scoring=scoring[5],\n",
        "                            cv=5)\n",
        "    print('--------------------------------------')\n",
        "    print('model {0:20} | score {1:20}'.format(name,scoring[5]))\n",
        "    print('mean {0:22.2f}| std   {1:<22.2f}'.format(scores.mean(),scores.std()))\n",
        "    print(\"Accuracy: {0:23.2f} (+/- {1:.2f})\" .format(scores.mean(), scores.std() * 2))"
      ],
      "metadata": {
        "colab": {
          "base_uri": "https://localhost:8080/"
        },
        "id": "FG8W1Il0awKl",
        "outputId": "fe5f4fac-5717-426b-8707-8a49a886b3d9"
      },
      "execution_count": null,
      "outputs": [
        {
          "output_type": "stream",
          "name": "stdout",
          "text": [
            "--------------------------------------\n",
            "model lineal               | score r2                  \n",
            "mean                   0.85| std   0.03                  \n",
            "Accuracy:                    0.85 (+/- 0.05)\n",
            "--------------------------------------\n",
            "model ridge 0.7            | score r2                  \n",
            "mean                   0.85| std   0.03                  \n",
            "Accuracy:                    0.85 (+/- 0.05)\n",
            "--------------------------------------\n",
            "model MLP                  | score r2                  \n",
            "mean                   0.88| std   0.03                  \n",
            "Accuracy:                    0.88 (+/- 0.07)\n",
            "--------------------------------------\n",
            "model RANSAC               | score r2                  \n",
            "mean                   0.83| std   0.04                  \n",
            "Accuracy:                    0.83 (+/- 0.08)\n"
          ]
        }
      ]
    },
    {
      "cell_type": "code",
      "source": [
        "from sklearn import datasets\n",
        "from sklearn.metrics import confusion_matrix\n",
        "#from sklearn.cross_validation import train_test_split\n",
        "# de acuerdo a la version scikit train_test_split puede ser\n",
        "from sklearn.model_selection import train_test_split,cross_val_score\n",
        "from sklearn.neural_network import MLPClassifier\n",
        "\n",
        "x_train,x_test, y_train, y_test  = train_test_split(X,y, test_size = 0.2, random_state=42 )\n",
        "\n",
        "#TODO: normalize the data\n",
        "names=['MLP logistic','MLP tanh','MLP relu','MLP relu/SGD/three layers']\n",
        "clfs=[MLPClassifier(activation='logistic',max_iter=1000),\n",
        "      MLPClassifier(activation='tanh',max_iter=1000),\n",
        "      MLPClassifier(activation='relu',max_iter=1000),\n",
        "      MLPClassifier(activation='relu',solver='sgd',hidden_layer_sizes =(10,100,80),max_iter=10000)]\n",
        "\n",
        "for clf,name in zip(clfs,names):\n",
        "    print(name)\n",
        "    scores = cross_val_score(clf, x_train, y_train, cv=5,scoring='f1_weighted',n_jobs=-1)\n",
        "    print(scores)\n",
        "    print('mean {a:5.3f} standard desviation {b:5.3f}'.format(a=scores.mean(),b=scores.std()))"
      ],
      "metadata": {
        "colab": {
          "base_uri": "https://localhost:8080/"
        },
        "id": "WLh8xy_jKTv4",
        "outputId": "113759db-988d-4c8e-85ca-1393dbe94bba"
      },
      "execution_count": null,
      "outputs": [
        {
          "output_type": "stream",
          "name": "stdout",
          "text": [
            "MLP logistic\n",
            "[0.17501677 0.20602438 0.2778022  0.21745897 0.1760905 ]\n",
            "mean 0.210 standard desviation 0.038\n",
            "MLP tanh\n",
            "[0.21642677 0.17718885 0.36103896 0.20885662 0.22521851]\n",
            "mean 0.238 standard desviation 0.064\n",
            "MLP relu\n",
            "[0.14832022 0.1762971  0.31444104 0.16559869 0.15522311]\n",
            "mean 0.192 standard desviation 0.062\n",
            "MLP relu/SGD/three layers\n",
            "[0.17309817 0.10070211 0.21330106 0.15978736 0.09897214]\n",
            "mean 0.149 standard desviation 0.044\n"
          ]
        }
      ]
    }
  ]
}